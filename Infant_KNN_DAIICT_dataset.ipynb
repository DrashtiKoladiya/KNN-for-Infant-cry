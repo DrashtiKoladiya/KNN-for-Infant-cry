{
  "cells": [
    {
      "cell_type": "code",
      "execution_count": 14,
      "id": "ad3d96ef",
      "metadata": {
        "id": "ad3d96ef"
      },
      "outputs": [],
      "source": [
        "import librosa\n",
        "import numpy as np\n",
        "import os\n",
        "import pickle "
      ]
    },
    {
      "cell_type": "code",
      "execution_count": 15,
      "id": "6d85800f",
      "metadata": {},
      "outputs": [],
      "source": [
        "def mfcc_mine(sr,audio):\n",
        "    mfccs=librosa.feature.mfcc(y=audio,sr=sr,n_mfcc=13)\n",
        "    mfccs_array=np.array(mfccs.T)\n",
        "    mfccs_processed=np.mean(mfccs.T,axis=0)\n",
        "    return mfccs_processed\n"
      ]
    },
    {
      "cell_type": "code",
      "execution_count": 16,
      "id": "b673e287",
      "metadata": {},
      "outputs": [
        {
          "name": "stdout",
          "output_type": "stream",
          "text": [
            "total files of asthma: 182\n",
            "total files of normal: 793\n",
            "total files of HIE: 215\n"
          ]
        }
      ],
      "source": [
        "#---------------------------------#loading data----------------------------------\n",
        "path1 = \"/home/speechlab/Desktop/Drashti/infantknn/DAIICT_Dataset/Asthma\"\n",
        "print('total files of asthma:',len(os.listdir(path1)))\n",
        "path2=\"/home/speechlab/Desktop/Drashti/infantknn/DAIICT_Dataset/Normal\"\n",
        "print('total files of normal:',len(os.listdir(path2)))\n",
        "path3=\"/home/speechlab/Desktop/Drashti/infantknn/DAIICT_Dataset/HIE\"\n",
        "print('total files of HIE:',len(os.listdir(path3)))"
      ]
    },
    {
      "cell_type": "code",
      "execution_count": 17,
      "id": "d145466d",
      "metadata": {},
      "outputs": [],
      "source": [
        "train_dataset =[]\n",
        "train_labels=[]\n",
        "train_extracted1=[]\n",
        "train_extracted_del1=[]\n",
        "train_extracted_ddel1=[]\n",
        "\n",
        "# class Asthma\n",
        "files = os.listdir(path1)\n",
        "for i in files:\n",
        "  string = path1 + '/'+i\n",
        "  data,sr = librosa.load(string)\n",
        "  train_dataset.append(data)\n",
        "  train_labels.append('pathology')  \n",
        "  feat=mfcc_mine(sr,data)  \n",
        "  train_extracted1.append(feat)\n",
        "train_extracted1=np.array(train_extracted1)\n",
        "train_extracted_1=train_extracted1\n",
        "\n"
      ]
    },
    {
      "cell_type": "code",
      "execution_count": 18,
      "id": "8b398933",
      "metadata": {},
      "outputs": [],
      "source": [
        "train_extracted2=[]\n",
        "train_extracted_del2=[]\n",
        "train_extracted_ddel2=[]\n",
        "\n",
        "# class normal\n",
        "files = os.listdir(path2)\n",
        "for i in files:\n",
        "  string = path2 + '/'+i\n",
        "  data,sr = librosa.load(string)\n",
        "  train_dataset.append(data)\n",
        "  train_labels.append('normal')  \n",
        "  feat=mfcc_mine(sr,data)  \n",
        "  train_extracted2.append(feat)\n",
        "train_extracted2=np.array(train_extracted2)\n",
        "train_extracted_2=train_extracted2\n",
        "\n"
      ]
    },
    {
      "cell_type": "code",
      "execution_count": 19,
      "id": "4a040091",
      "metadata": {},
      "outputs": [],
      "source": [
        "train_extracted3=[]\n",
        "train_extracted_del3=[]\n",
        "train_extracted_ddel3=[]\n",
        "\n",
        "# class HIE\n",
        "files = os.listdir(path3)\n",
        "for i in files:\n",
        "  string = path3 + '/'+i\n",
        "  data,sr = librosa.load(string)\n",
        "  train_dataset.append(data)\n",
        "  train_labels.append('pathology')  \n",
        "  feat=mfcc_mine(sr,data)  \n",
        "  train_extracted3.append(feat) \n",
        "train_extracted3=np.array(train_extracted3)\n",
        "train_extracted_3=train_extracted3\n",
        "\n"
      ]
    },
    {
      "cell_type": "code",
      "execution_count": 22,
      "id": "c79a8528",
      "metadata": {},
      "outputs": [
        {
          "name": "stdout",
          "output_type": "stream",
          "text": [
            "(1190, 13)\n"
          ]
        }
      ],
      "source": [
        "train_extracted_1=np.array(train_extracted_1)\n",
        "train_extracted_2=np.array(train_extracted_2)\n",
        "train_extracted_3=np.array(train_extracted_3)\n",
        "train_extracted=0\n",
        "train_extracted=np.vstack((train_extracted_1,train_extracted_2,train_extracted_3))\n",
        "print(train_extracted.shape)\n",
        "\n"
      ]
    },
    {
      "cell_type": "code",
      "execution_count": 23,
      "id": "18e7b41f",
      "metadata": {},
      "outputs": [
        {
          "name": "stdout",
          "output_type": "stream",
          "text": [
            "[['normal' 'pathology']\n",
            " ['793' '397']]\n"
          ]
        },
        {
          "data": {
            "text/plain": [
              "<BarContainer object of 2 artists>"
            ]
          },
          "execution_count": 23,
          "metadata": {},
          "output_type": "execute_result"
        },
        {
          "data": {
            "image/png": "[encoded data removed]",
            "text/plain": [
              "<Figure size 640x480 with 1 Axes>"
            ]
          },
          "metadata": {},
          "output_type": "display_data"
        }
      ],
      "source": [
        "#----------------------------------#labels encoder-------------------------------\n",
        "import matplotlib.pyplot as plt\n",
        "from sklearn import preprocessing\n",
        "unique,counts=np.unique(train_labels,return_counts=True)\n",
        "print(np.asarray((unique,counts)))\n",
        "label_encoder=preprocessing.LabelEncoder()\n",
        "train_labels=label_encoder.fit_transform(train_labels)\n",
        "uniques=['normal','pathology']\n",
        "plt.bar(uniques,counts)\n"
      ]
    },
    {
      "cell_type": "code",
      "execution_count": 24,
      "id": "0633723c",
      "metadata": {},
      "outputs": [],
      "source": [
        "#----------------------------------#train test split------------------------------\n",
        "from sklearn.model_selection import train_test_split\n",
        "x_train,x_test,y_train,y_test=train_test_split(train_extracted,train_labels,test_size=0.30,random_state=42)\n"
      ]
    },
    {
      "cell_type": "code",
      "execution_count": 25,
      "id": "81a05a73",
      "metadata": {},
      "outputs": [],
      "source": [
        "#----------------------------------#training part---------------------------------------\n",
        "from sklearn.neighbors import KNeighborsClassifier\n",
        "classifier=KNeighborsClassifier(n_neighbors=3)\n",
        "classifier.fit(x_train,y_train)\n",
        "knnPickle = open('knnpickle_file', 'wb')     \n",
        "# source, destination \n",
        "pickle.dump(classifier, knnPickle)  \n",
        "# close the file\n",
        "knnPickle.close()\n"
      ]
    }
  ],
  "metadata": {
    "colab": {
      "collapsed_sections": [],
      "provenance": []
    },
    "kernelspec": {
      "display_name": "Python 3.10.4 64-bit",
      "language": "python",
      "name": "python3"
    },
    "language_info": {
      "codemirror_mode": {
        "name": "ipython",
        "version": 3
      },
      "file_extension": ".py",
      "mimetype": "text/x-python",
      "name": "python",
      "nbconvert_exporter": "python",
      "pygments_lexer": "ipython3",
      "version": "3.10.4"
    },
    "vscode": {
      "interpreter": {
        "hash": "aee8b7b246df8f9039afb4144a1f6fd8d2ca17a180786b69acc140d282b71a49"
      }
    }
  },
  "nbformat": 4,
  "nbformat_minor": 5
}
